{
 "cells": [
  {
   "cell_type": "markdown",
   "id": "4db8af85",
   "metadata": {},
   "source": [
    "# Assignment 3"
   ]
  },
  {
   "cell_type": "markdown",
   "id": "bd44f94a",
   "metadata": {},
   "source": [
    "**Q1.Why are functions advantageous to have in your programs?**"
   ]
  },
  {
   "cell_type": "markdown",
   "id": "1585a889",
   "metadata": {},
   "source": [
    "A.Pros of using Functions\n",
    "\n",
    "1.Duplication of the code is reduced.\n",
    "\n",
    "2.Increase the readability and modularity of the program.\n",
    "\n",
    "3.Modification of the program becomes easier\n",
    "\n",
    "4.Reduces the chances of error."
   ]
  },
  {
   "cell_type": "markdown",
   "id": "604f88a6",
   "metadata": {},
   "source": [
    "**Q2.When does the code in a function execute: when the function is defined or when the function is called?**"
   ]
  },
  {
   "cell_type": "markdown",
   "id": "e5211f76",
   "metadata": {},
   "source": [
    "A.The function is executed when the function is called and NOT when the code is defined"
   ]
  },
  {
   "cell_type": "markdown",
   "id": "1f851fce",
   "metadata": {},
   "source": [
    "**Q3.What statement creates a function?**"
   ]
  },
  {
   "cell_type": "markdown",
   "id": "019e0c72",
   "metadata": {},
   "source": [
    "A. \n",
    "This creates the function completely\n",
    "\n",
    "Syntax:\n",
    "\n",
    "    def function_name():\n",
    "        body_of_function\n",
    "\n",
    "For example:\n",
    "\n",
    "    def number():\n",
    "        print('1234567890')"
   ]
  },
  {
   "cell_type": "markdown",
   "id": "2de288cb",
   "metadata": {},
   "source": [
    "**Q4.What is the difference between a function and a function call?**"
   ]
  },
  {
   "cell_type": "markdown",
   "id": "b51751d0",
   "metadata": {},
   "source": [
    "A.\n",
    "Function is a way or precedure to achieve a particular result\n",
    "\n",
    "Function Call uses the function to execute the block of code present within the function\n"
   ]
  },
  {
   "cell_type": "markdown",
   "id": "bfed6559",
   "metadata": {},
   "source": [
    "**Q5.How many global scopes are there in a Python program? How many local scopes?**"
   ]
  },
  {
   "cell_type": "markdown",
   "id": "a54ea988",
   "metadata": {},
   "source": [
    "A. There is only one global scope in Python program. The scope of the global variable is present within the entire program\n",
    "\n",
    "The Local scope is temporarily created when the function is executed. The scope of the local variable is limited to the function."
   ]
  },
  {
   "cell_type": "markdown",
   "id": "fb9a9f01",
   "metadata": {},
   "source": [
    "**Q6.What happens to variables in a local scope when the function call returns?**"
   ]
  },
  {
   "cell_type": "markdown",
   "id": "9309aaa5",
   "metadata": {},
   "source": [
    "A. When a function is called, the local variable is temporarily created.\n",
    "\n",
    "As soon as the function returns, the local scope is destroyed and the variable no longer exists.\n",
    "\n",
    "We cannot access the that variable outside the function\n",
    "\n"
   ]
  },
  {
   "cell_type": "markdown",
   "id": "63477686",
   "metadata": {},
   "source": [
    "**Q7.What is the concept of a return value? Is it possible to have a return value in an expression?**"
   ]
  },
  {
   "cell_type": "markdown",
   "id": "64eb8b42",
   "metadata": {},
   "source": [
    "A. The return is a value that the function returns as result after executing the block of statements (when the function completes the entire execution).\n",
    "\n",
    "The return value can be of any types depending largely upon the operation perfomed within the function.\n",
    "It can be int, float, string, list and many more"
   ]
  },
  {
   "cell_type": "markdown",
   "id": "45da4315",
   "metadata": {},
   "source": [
    "**Q8. If a function does not have a return statement, what is the return value of a call to that function?**"
   ]
  },
  {
   "cell_type": "markdown",
   "id": "e0b890ea",
   "metadata": {},
   "source": [
    "A.If the function does have a return statement, it returns value is NONE of that function"
   ]
  },
  {
   "cell_type": "markdown",
   "id": "afc5ff8f",
   "metadata": {},
   "source": [
    "**Q9.How do you make a function variable refer to the global variable?**"
   ]
  },
  {
   "cell_type": "markdown",
   "id": "407af4e6",
   "metadata": {},
   "source": [
    "A. Variables that are created or defined outside the function is called as the Global Variables\n",
    "Global Variables can be used anywhere within the program i.e. both inside or outside the function\n",
    "For eg."
   ]
  },
  {
   "cell_type": "code",
   "execution_count": 4,
   "id": "84c2405a",
   "metadata": {},
   "outputs": [
    {
     "name": "stdout",
     "output_type": "stream",
     "text": [
      "abc\n"
     ]
    }
   ],
   "source": [
    "x = \"abc\"            # Global variable\n",
    "\n",
    "def func():      # Function defined\n",
    "    print(x)\n",
    "\n",
    "func()           # Function called\n"
   ]
  },
  {
   "cell_type": "markdown",
   "id": "58b0e149",
   "metadata": {},
   "source": [
    "**Q10.What is the data type of None?**"
   ]
  },
  {
   "cell_type": "code",
   "execution_count": 6,
   "id": "685b39ce",
   "metadata": {},
   "outputs": [
    {
     "data": {
      "text/plain": [
       "NoneType"
      ]
     },
     "execution_count": 6,
     "metadata": {},
     "output_type": "execute_result"
    }
   ],
   "source": [
    "type(None)"
   ]
  },
  {
   "cell_type": "markdown",
   "id": "290436f1",
   "metadata": {},
   "source": [
    "**Q11.What does the sentence import areallyourpetsnamederic do?**"
   ]
  },
  {
   "cell_type": "code",
   "execution_count": 7,
   "id": "4a490063",
   "metadata": {},
   "outputs": [
    {
     "ename": "ModuleNotFoundError",
     "evalue": "No module named 'areallyourpetsnamederic'",
     "output_type": "error",
     "traceback": [
      "\u001b[1;31m---------------------------------------------------------------------------\u001b[0m",
      "\u001b[1;31mModuleNotFoundError\u001b[0m                       Traceback (most recent call last)",
      "\u001b[1;32m~\\AppData\\Local\\Temp/ipykernel_4196/51184242.py\u001b[0m in \u001b[0;36m<module>\u001b[1;34m\u001b[0m\n\u001b[1;32m----> 1\u001b[1;33m \u001b[1;32mimport\u001b[0m \u001b[0mareallyourpetsnamederic\u001b[0m\u001b[1;33m\u001b[0m\u001b[1;33m\u001b[0m\u001b[0m\n\u001b[0m",
      "\u001b[1;31mModuleNotFoundError\u001b[0m: No module named 'areallyourpetsnamederic'"
     ]
    }
   ],
   "source": [
    "import areallyourpetsnamederic"
   ]
  },
  {
   "cell_type": "markdown",
   "id": "b1070c6c",
   "metadata": {},
   "source": [
    "A. It shows ModuleNotFoundError because areallyourpetsnamederic is not an built-in package in Python."
   ]
  },
  {
   "cell_type": "markdown",
   "id": "b21703fe",
   "metadata": {},
   "source": [
    "**Q12.If you had a bacon() feature in a spam module, what would you call it after importing spam?**"
   ]
  },
  {
   "cell_type": "markdown",
   "id": "4fd4d0c6",
   "metadata": {},
   "source": [
    "A.  \n",
    "    \n",
    "    import spam      #Importing Module\n",
    "    \n",
    "    spam.bacon()     #Calling function"
   ]
  },
  {
   "cell_type": "markdown",
   "id": "af58b27e",
   "metadata": {},
   "source": [
    "**Q13.What can you do to save a programme from crashing if it encounters an error?**"
   ]
  },
  {
   "cell_type": "markdown",
   "id": "41422210",
   "metadata": {},
   "source": [
    "A. Use the concept of Exception Handling i.e. TRY-EXCEPT Block"
   ]
  },
  {
   "cell_type": "markdown",
   "id": "7e2a218a",
   "metadata": {},
   "source": [
    "**Q14.What is the purpose of the try clause? What is the purpose of the except clause?**"
   ]
  },
  {
   "cell_type": "markdown",
   "id": "82e81a17",
   "metadata": {},
   "source": [
    "Try: Write the suspected line of code within the Try Block\n",
    "\n",
    "Except: Error occured in the try block is handled by the except block"
   ]
  }
 ],
 "metadata": {
  "kernelspec": {
   "display_name": "Python 3 (ipykernel)",
   "language": "python",
   "name": "python3"
  },
  "language_info": {
   "codemirror_mode": {
    "name": "ipython",
    "version": 3
   },
   "file_extension": ".py",
   "mimetype": "text/x-python",
   "name": "python",
   "nbconvert_exporter": "python",
   "pygments_lexer": "ipython3",
   "version": "3.9.7"
  }
 },
 "nbformat": 4,
 "nbformat_minor": 5
}
