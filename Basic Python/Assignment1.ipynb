{
 "cells": [
  {
   "cell_type": "markdown",
   "id": "36501663",
   "metadata": {},
   "source": [
    "## Assignment 1\n"
   ]
  },
  {
   "cell_type": "markdown",
   "id": "0c52f153",
   "metadata": {},
   "source": [
    "Q1. In the below elements which of them are values or an expression? \n",
    "    eg:- values can be integer or string and expressions will be mathematical operators.\n",
    "    \n",
    "    *\n",
    "    'hello'\n",
    "    -87.8\n",
    "    -\n",
    "    /\n",
    "    +\n",
    "    6"
   ]
  },
  {
   "cell_type": "markdown",
   "id": "0dd11e50",
   "metadata": {},
   "source": [
    "A.\n",
    "\n",
    "    1. *       --> is a Expression (Multiplication Operator)\n",
    "    2. \"Hello\" --> is a Value (String DataType)\n",
    "    3. -87.8   --> is a Value (Negative Integer)\n",
    "    4. -       --> is a Expression (Subtraction Operator)\n",
    "    5. /       --> is a Expression (Division Operator)\n",
    "    6. +       --> is a Expression (Addition Operator)\n",
    "    7. 6       --> is a Value (Positive Integer)"
   ]
  },
  {
   "cell_type": "markdown",
   "id": "750f5c6e",
   "metadata": {},
   "source": [
    "Q2. What is the difference between string and variable?\n"
   ]
  },
  {
   "cell_type": "markdown",
   "id": "cac6e686",
   "metadata": {},
   "source": [
    " A.\n",
    "    \n",
    "    String is a datatype which is used to store String Values\n",
    "\t\tFor Example: \t\"abc\"\n",
    "\n",
    "    Variable is a kind of storage of information. It can store data of any kind like int float complex str tuples list etc.\n",
    "\t\tFor Example: \ta = 123 #Integer value\n",
    "                        b = \"def\" #String value  "
   ]
  },
  {
   "cell_type": "markdown",
   "id": "d09cfc15",
   "metadata": {},
   "source": [
    "Q3. Describe three different data types."
   ]
  },
  {
   "cell_type": "markdown",
   "id": "7dacf20c",
   "metadata": {},
   "source": [
    "A.\n",
    "\n",
    "    1. str   --> For storing String Values\n",
    "    Example: x = 'ABC'\n",
    "        X is a variable storing \"ABC\" value as String\n",
    "\n",
    "    2. int   --> For storing Integer Values    \n",
    "    Example: x = -9\n",
    "        X is a variable storing Negative Integer value \n",
    "\n",
    "    3. float --> For storing Float Values\n",
    "    Example: x = 45.6\n",
    "        X is a variable storing 45.6 as float value"
   ]
  },
  {
   "cell_type": "markdown",
   "id": "0cf7df2c",
   "metadata": {},
   "source": [
    "Q4. What is an expression made up of? What do all expressions do?"
   ]
  },
  {
   "cell_type": "markdown",
   "id": "80fb4e97",
   "metadata": {},
   "source": [
    "A.\n",
    "    \n",
    "    Expression is an element that evaluates to a single value which is made up of variables and methods which are constructed based on the language used.\n",
    "\tExpression is combination of Variables, Operators and Methods. It needs to be evaluated/calulated\n",
    "\tExamples :\n",
    "\t\t1 --> \"Aaditya\" -- Expression\n",
    "\t\t2 --> (1/2)*5.0 = 2.5 -- Expression"
   ]
  },
  {
   "cell_type": "markdown",
   "id": "80c546ed",
   "metadata": {},
   "source": [
    "Q5. This assignment statements, like spam = 10. What is the difference between an expression and a statement?"
   ]
  },
  {
   "cell_type": "markdown",
   "id": "aaf35594",
   "metadata": {},
   "source": [
    "A.\n",
    "    \n",
    "    Statement is something that expresses element/object/variable.\n",
    "\tPrint and Assignment Statement can be called as a Statement that represent an action\n",
    "\tEx1:\tprint('Abc') O/P: Abc\n",
    "\tEx2:\tx = 456\n",
    "\n",
    "\tAlso, spam = 10 is an example of Statement as value 10 is been assigned to variable \"spam\"\n",
    "\n",
    "\tExpression is a combination of Variables, Operators and Methods to produce a result Value.\n",
    "\tExpression can also be reduced to a single value.\n",
    "\n",
    "\tEx1: 4+8*/9-54264+52689 O/P:--1499"
   ]
  },
  {
   "cell_type": "markdown",
   "id": "1dc7d72c",
   "metadata": {},
   "source": [
    "Q6. After running the following code, what does the variable bacon contain?\n",
    "\t\n",
    "    bacon = 22\n",
    "\tbacon + 1\n"
   ]
  },
  {
   "cell_type": "code",
   "execution_count": 2,
   "id": "0098985e",
   "metadata": {},
   "outputs": [
    {
     "data": {
      "text/plain": [
       "23"
      ]
     },
     "execution_count": 2,
     "metadata": {},
     "output_type": "execute_result"
    }
   ],
   "source": [
    "bacon=22\n",
    "bacon+1"
   ]
  },
  {
   "cell_type": "code",
   "execution_count": 3,
   "id": "e6a64449",
   "metadata": {},
   "outputs": [
    {
     "data": {
      "text/plain": [
       "22"
      ]
     },
     "execution_count": 3,
     "metadata": {},
     "output_type": "execute_result"
    }
   ],
   "source": [
    "bacon"
   ]
  },
  {
   "cell_type": "markdown",
   "id": "22a943af",
   "metadata": {},
   "source": [
    "A.\n",
    "\n",
    "    Initially the value of bacon is 22\n",
    "    After incrementing the value of bacon by 1 is becomes 23\n",
    "    Still when I print the value of becon it is 22\n",
    "    This is because after the incrementing the value by 1 I havent assigned the value to some variable or to bacon variable itself.\n"
   ]
  },
  {
   "cell_type": "markdown",
   "id": "4be4122b",
   "metadata": {},
   "source": [
    "Q7. What should the values of the following two terms be?\n",
    "\n",
    "    \"spam\" + \"spamspam\"\n",
    "    \"spam\" * 3"
   ]
  },
  {
   "cell_type": "code",
   "execution_count": 4,
   "id": "08315958",
   "metadata": {},
   "outputs": [
    {
     "name": "stdout",
     "output_type": "stream",
     "text": [
      "spamspamspam\n",
      "spamspamspam\n"
     ]
    }
   ],
   "source": [
    "print(\"spam\"+\"spamspam\")\n",
    "print(\"spam\"*3)"
   ]
  },
  {
   "cell_type": "markdown",
   "id": "c9d92a94",
   "metadata": {},
   "source": [
    "A.\n",
    "    \n",
    "    Output 1 - spamspamspam\n",
    "\tOutput 2 - spamspamspam\n"
   ]
  },
  {
   "cell_type": "markdown",
   "id": "22a37c8e",
   "metadata": {},
   "source": [
    "Q8. Why is eggs a valid variable name while 100 is invalid?"
   ]
  },
  {
   "cell_type": "markdown",
   "id": "5108997f",
   "metadata": {},
   "source": [
    "A.Rules to define variables- \n",
    "  \n",
    " 1. Variable Name should start with a letter or an underscore\n",
    " 2. It shouldnt start with a numbers\n",
    " 3. Variable Name can contain aplphabet a-z or A-Z and numbers from 0-9, an underscore can also be used\n",
    " 4. Python VariableName are case sensitive in nature\n",
    "Therefore, egg is a valid variable name and 100 is invalid variable name"
   ]
  },
  {
   "cell_type": "markdown",
   "id": "89989fc7",
   "metadata": {},
   "source": [
    "Q9. What three functions can be used to get the integer, floating-point number, or string version of a value?"
   ]
  },
  {
   "cell_type": "markdown",
   "id": "62b3c0d6",
   "metadata": {},
   "source": [
    "A.\t\n",
    "\n",
    "    int()\n",
    "    float()\n",
    "    str()\n",
    "These are the three functions which is used to get Integer, FLoating-Point Number and String Version of a Value"
   ]
  },
  {
   "cell_type": "markdown",
   "id": "230d6cec",
   "metadata": {},
   "source": [
    "Q10. Why does this expression cause an error? How can you fix it\n",
    "\n",
    "    \"I have eaten\" + 99 + \" burritos \""
   ]
  },
  {
   "cell_type": "code",
   "execution_count": 6,
   "id": "198ed36e",
   "metadata": {},
   "outputs": [
    {
     "ename": "TypeError",
     "evalue": "can only concatenate str (not \"int\") to str",
     "output_type": "error",
     "traceback": [
      "\u001b[1;31m---------------------------------------------------------------------------\u001b[0m",
      "\u001b[1;31mTypeError\u001b[0m                                 Traceback (most recent call last)",
      "\u001b[1;32m~\\AppData\\Local\\Temp/ipykernel_7412/1971085054.py\u001b[0m in \u001b[0;36m<module>\u001b[1;34m\u001b[0m\n\u001b[1;32m----> 1\u001b[1;33m \u001b[0mprint\u001b[0m\u001b[1;33m(\u001b[0m \u001b[1;34m\"I have eaten\"\u001b[0m \u001b[1;33m+\u001b[0m \u001b[1;36m99\u001b[0m \u001b[1;33m+\u001b[0m \u001b[1;34m\"burritos\"\u001b[0m \u001b[1;33m)\u001b[0m\u001b[1;33m\u001b[0m\u001b[1;33m\u001b[0m\u001b[0m\n\u001b[0m",
      "\u001b[1;31mTypeError\u001b[0m: can only concatenate str (not \"int\") to str"
     ]
    }
   ],
   "source": [
    "print( \"I have eaten\" + 99 + \"burritos\" )"
   ]
  },
  {
   "cell_type": "markdown",
   "id": "d4e10567",
   "metadata": {},
   "source": [
    "A.\n",
    "\n",
    "    This is because this is a str + int + str concatenation\n",
    "\tThis is not possible because the data type of concatenation is different\n",
    "\tThis can be fixed when we convert the integer type to string datatype\n",
    "\ti.e ->"
   ]
  },
  {
   "cell_type": "code",
   "execution_count": 8,
   "id": "0e563ad1",
   "metadata": {},
   "outputs": [
    {
     "name": "stdout",
     "output_type": "stream",
     "text": [
      "I have eaten 99 burritos \n"
     ]
    }
   ],
   "source": [
    "print(\"I have eaten \" + str(99) + \" burritos \")"
   ]
  }
 ],
 "metadata": {
  "kernelspec": {
   "display_name": "Python 3 (ipykernel)",
   "language": "python",
   "name": "python3"
  },
  "language_info": {
   "codemirror_mode": {
    "name": "ipython",
    "version": 3
   },
   "file_extension": ".py",
   "mimetype": "text/x-python",
   "name": "python",
   "nbconvert_exporter": "python",
   "pygments_lexer": "ipython3",
   "version": "3.9.7"
  }
 },
 "nbformat": 4,
 "nbformat_minor": 5
}
