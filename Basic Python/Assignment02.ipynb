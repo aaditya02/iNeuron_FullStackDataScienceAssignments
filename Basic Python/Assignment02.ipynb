{
 "cells": [
  {
   "cell_type": "markdown",
   "id": "1352ba92",
   "metadata": {},
   "source": [
    "# Assignment 2"
   ]
  },
  {
   "cell_type": "markdown",
   "id": "12f94c42",
   "metadata": {},
   "source": [
    "**Q1.What are the two values of the Boolean data type? How do you write them?**"
   ]
  },
  {
   "cell_type": "markdown",
   "id": "34457b8e",
   "metadata": {},
   "source": [
    "**A.** The two values for Boolean data types are-\n",
    "1. True\n",
    "2. False\n",
    "It is case sensitive and first letter of both true and false should be capital.\n",
    "For eg."
   ]
  },
  {
   "cell_type": "code",
   "execution_count": 4,
   "id": "81715ad4",
   "metadata": {},
   "outputs": [
    {
     "name": "stdout",
     "output_type": "stream",
     "text": [
      "<class 'bool'>\n",
      "<class 'bool'>\n"
     ]
    }
   ],
   "source": [
    "    a=True\n",
    "    b=False\n",
    "    print(type(a))\n",
    "    print(type(b))"
   ]
  },
  {
   "cell_type": "markdown",
   "id": "f59df837",
   "metadata": {},
   "source": [
    "**Q2. What are the three different types of Boolean operators?**"
   ]
  },
  {
   "cell_type": "markdown",
   "id": "57b00e48",
   "metadata": {},
   "source": [
    "**A.** Basically there are 3 Boolean Operators:\n",
    "\n",
    "1. Logical AND (and)\n",
    "2. Logical OR (or)\n",
    "3. Logical NOT (not)"
   ]
  },
  {
   "cell_type": "markdown",
   "id": "ea70b4d1",
   "metadata": {},
   "source": [
    "**Q3.Make a list of each Boolean operator's truth tables (i.e. every possible combination of Boolean values for the operator and what it evaluate ).**"
   ]
  },
  {
   "cell_type": "code",
   "execution_count": 6,
   "id": "bec46223",
   "metadata": {},
   "outputs": [
    {
     "name": "stdout",
     "output_type": "stream",
     "text": [
      "AND OPERATION\n",
      " A  B O/P\n",
      "[0, 0, 0]\n",
      "[0, 1, 0]\n",
      "[1, 0, 0]\n",
      "[1, 1, 1]\n",
      "\n",
      "OR OPERATION\n",
      " A  B O/P\n",
      "[0, 0, 0]\n",
      "[0, 1, 1]\n",
      "[1, 0, 1]\n",
      "[1, 1, 1]\n",
      "\n",
      "NOT OPERATION\n",
      " A O/P\n",
      "[0, 1]\n",
      "[1, 0]\n"
     ]
    }
   ],
   "source": [
    "and_list = [[0,0,0],[0,1,0],[1,0,0], [1,1,1]]\n",
    "print(\"AND OPERATION\\n A  B O/P\")\n",
    "for i in and_list:\n",
    "            print(i)\n",
    "\n",
    "or_list = [[0,0,0],[0,1,1],[1,0,1], [1,1,1]]\n",
    "print(\"\\nOR OPERATION\\n A  B O/P\")\n",
    "for i in or_list:\n",
    "            print(i)\n",
    "\n",
    "or_list = [[0,1],[1,0]]\n",
    "print(\"\\nNOT OPERATION\\n A O/P\")\n",
    "for i in or_list:\n",
    "            print(i)"
   ]
  },
  {
   "cell_type": "markdown",
   "id": "86a37ae7",
   "metadata": {},
   "source": [
    "**Q4. What are the values of the following expressions?**\n",
    "- (5 > 4) and (3 == 5) <br>\n",
    "- not (5 > 4)<br>\n",
    "- (5 > 4) or (3 == 5)<br>\n",
    "- not ((5 > 4) or (3 == 5))<br>\n",
    "- (True and True) and (True == False)<br>\n",
    "- (not False) or (not True)\n"
   ]
  },
  {
   "cell_type": "code",
   "execution_count": 7,
   "id": "316231d7",
   "metadata": {},
   "outputs": [
    {
     "name": "stdout",
     "output_type": "stream",
     "text": [
      "(5 > 4) and (3 == 5) --> False\n",
      "not (5 > 4) --> False\n",
      "(5 > 4) or (3 == 5) --> True\n",
      "not ((5 > 4) or (3 == 5)) --> False\n",
      "(True and True) and (True == False) --> False\n",
      "(not False) or (not True) --> True\n"
     ]
    }
   ],
   "source": [
    "print(f\"(5 > 4) and (3 == 5) --> {(5 > 4) and (3 == 5)}\")\n",
    "print(f\"not (5 > 4) --> {not (5 > 4)}\")\n",
    "print(f\"(5 > 4) or (3 == 5) --> {(5 > 4) or (3 == 5)}\")\n",
    "print(f\"not ((5 > 4) or (3 == 5)) --> {not ((5 > 4) or (3 == 5))}\")\n",
    "print(f\"(True and True) and (True == False) --> {(True and True) and (True == False)}\")\n",
    "print(f\"(not False) or (not True) --> {(not False) or (not True)}\")"
   ]
  },
  {
   "cell_type": "markdown",
   "id": "129f6590",
   "metadata": {},
   "source": [
    "**Q5.What are the six comparison operators?**"
   ]
  },
  {
   "cell_type": "markdown",
   "id": "dba1a360",
   "metadata": {},
   "source": [
    "**A.** Comparison Operators are:\n",
    "    \n",
    "    1. ==   Equal to Operator\n",
    "    2. !=   Not Equal to Operator\n",
    "    3. <    Less than Operator\n",
    "    4. >    Greater than Operator\n",
    "    5. <=   Less than or Equal to Operator\n",
    "    6. >=   Greater than or Equal to Operator"
   ]
  },
  {
   "cell_type": "markdown",
   "id": "ea5a292e",
   "metadata": {},
   "source": [
    "**Q6.How do you tell the difference between the equal to and assignment operators?Describe a condition and when you would use one**"
   ]
  },
  {
   "cell_type": "markdown",
   "id": "6f16e117",
   "metadata": {},
   "source": [
    "**A.** The Basic Difference between the Equal to Operator and the Assignment Operator is is that \n",
    "\n",
    "    1.Equal to Operator is double equal to symbol (==).Equal Operator is used for for comparison purpose\n",
    "    2.Assignment Operator have a single equal to symbol (=).It is used for assigning values to the Variable\n",
    "    FOR EG.\n",
    "            a=10                          #assignment operator assigns a with the value 10\n",
    "            if a==10:                     #variable a is compared to 10 using assignment operator\n",
    "                print(\"Value is 10\")      "
   ]
  },
  {
   "cell_type": "markdown",
   "id": "4f952489",
   "metadata": {},
   "source": [
    "**Q7.Identify the three blocks in this code:**\n",
    "\n",
    "    spam = 0\n",
    "    if spam == 10:\n",
    "        print(\"eggs\")\n",
    "\n",
    "    if spam > 5:\n",
    "        print(\"bacon\")\n",
    "    else:\n",
    "        print(\"ham\")\n",
    "        print(\"spam\")\n",
    "        print(\"spam\")"
   ]
  },
  {
   "cell_type": "markdown",
   "id": "f94b1bfa",
   "metadata": {},
   "source": [
    "**A.** \n",
    "***FIRST BLOCK OF CODE***\n",
    "\n",
    "    Assignment Operation\n",
    "    spam = 0\n",
    "    \n",
    "***SECOND BLOCK OF CODE***\n",
    "    \n",
    "    If Condition\n",
    "    if spam == 10:\n",
    "        print(\"eggs\")\n",
    "        \n",
    "***THIRD BLOCK OF CODE***\n",
    "    \n",
    "    Condition Checking with IF-ELSE Block\n",
    "    if spam > 5:\n",
    "        print(\"bacon\")\n",
    "    else:\n",
    "        print(\"ham\")\n",
    "        print(\"spam\")\n",
    "        print(\"spam\")"
   ]
  },
  {
   "cell_type": "markdown",
   "id": "f6f37cff",
   "metadata": {},
   "source": [
    "**Q.8 Write code that**\n",
    "\n",
    "    prints Hello if 1 is stored in spam, \n",
    "\n",
    "    prints Howdy if 2 is stored in spam, \n",
    "\n",
    "    and prints Greetings! if anything else is stored in spam.\n"
   ]
  },
  {
   "cell_type": "code",
   "execution_count": 8,
   "id": "7b2e126f",
   "metadata": {},
   "outputs": [
    {
     "name": "stdout",
     "output_type": "stream",
     "text": [
      "Greetings!!!\n"
     ]
    }
   ],
   "source": [
    "spam = 0\n",
    "\n",
    "if spam ==1:\n",
    "    print(\"Hello\")\n",
    "elif spam ==2:\n",
    "    print('Howdy')\n",
    "else:\n",
    "    print('Greetings!!!')"
   ]
  },
  {
   "cell_type": "markdown",
   "id": "0ab537ff",
   "metadata": {},
   "source": [
    "**Q9. If your program is stuck in an endless loop, what keys you’ll press?**"
   ]
  },
  {
   "cell_type": "markdown",
   "id": "42ceacd4",
   "metadata": {},
   "source": [
    "**A.** Press **CTRL + C** key command to exit from the endless loop"
   ]
  },
  {
   "cell_type": "markdown",
   "id": "7662d1fe",
   "metadata": {},
   "source": [
    "**Q10.How can you tell the difference between break and continue?**"
   ]
  },
  {
   "cell_type": "markdown",
   "id": "168fc0f4",
   "metadata": {},
   "source": [
    "**A.** \n",
    "\n",
    "    Break: This statement breaks or leave the execution of the conditional loop execution.\n",
    "    \n",
    "    Continue: When continue comes in the conditional loop, it leaves the current iteration values for execution BUT continues from the next iterable object.\n",
    "    \n",
    "    For eg."
   ]
  },
  {
   "cell_type": "code",
   "execution_count": 11,
   "id": "46b04b9f",
   "metadata": {},
   "outputs": [
    {
     "name": "stdout",
     "output_type": "stream",
     "text": [
      "Current Value of i = 1\n",
      "Current Value of i = 2\n"
     ]
    }
   ],
   "source": [
    "list= [1,2,3,4,5]\n",
    "\n",
    "for i in list:\n",
    "    if i == 3:\n",
    "        break\n",
    "    else:\n",
    "        print(f\"Current Value of i = {i}\")"
   ]
  },
  {
   "cell_type": "code",
   "execution_count": 12,
   "id": "dc70185c",
   "metadata": {},
   "outputs": [
    {
     "name": "stdout",
     "output_type": "stream",
     "text": [
      "Current Value of i = 1\n",
      "Current Value of i = 2\n",
      "Current Value of i = 4\n",
      "Current Value of i = 5\n"
     ]
    }
   ],
   "source": [
    "list= [1,2,3,4,5]\n",
    "\n",
    "for i in list:\n",
    "    if i == 3:\n",
    "        continue\n",
    "    else:\n",
    "        print(f\"Current Value of i = {i}\")"
   ]
  },
  {
   "cell_type": "markdown",
   "id": "74eb1eb9",
   "metadata": {},
   "source": [
    "**Q.11 In a for loop, what is the difference between range(10), range(0, 10), and range(0, 10, 1)?**"
   ]
  },
  {
   "cell_type": "markdown",
   "id": "70c80e60",
   "metadata": {},
   "source": [
    "**A.** \n",
    "    \n",
    "    No difference in \n",
    "    range(10)\n",
    "    range(0,10)\n",
    "    range(0,10,1)\n",
    "    as the range can be defined as \n",
    "1. range(End_value) if 1 input are provided to the range parameter\n",
    "2. range(initial_Value, End_value) if 2 inputs are provided to the range parameter\n",
    "3. range(initial_Value, End_value, Jump_value) if 3 inputs are provided to the range parameter\n",
    "\n",
    "if No start value is provided to the range parameter By Default 0 is considered as the initial value and if no jump value is provided to the range parameter By Default 1 is considered as the jump value"
   ]
  },
  {
   "cell_type": "markdown",
   "id": "d45eace4",
   "metadata": {},
   "source": [
    "**Q12.Write a short program that prints the numbers 1 to 10 using a for loop. Then write an equivalent program that prints the numbers 1 to 10 using a while loop**"
   ]
  },
  {
   "cell_type": "code",
   "execution_count": 15,
   "id": "7f3cff20",
   "metadata": {},
   "outputs": [
    {
     "name": "stdout",
     "output_type": "stream",
     "text": [
      "USING FOR LOOP\n",
      "\t 1\n",
      "\t 2\n",
      "\t 3\n",
      "\t 4\n",
      "\t 5\n",
      "\t 6\n",
      "\t 7\n",
      "\t 8\n",
      "\t 9\n",
      "\t 10\n",
      "\n",
      "USING WHILE LOOP\n",
      "\t 1\n",
      "\t 2\n",
      "\t 3\n",
      "\t 4\n",
      "\t 5\n",
      "\t 6\n",
      "\t 7\n",
      "\t 8\n",
      "\t 9\n",
      "\t 10\n"
     ]
    }
   ],
   "source": [
    "print('USING FOR LOOP')\n",
    "for i in range(1,11):\n",
    "    print('\\t',i)\n",
    "\n",
    "print('\\nUSING WHILE LOOP')\n",
    "a=1\n",
    "while a <= 10:\n",
    "    print('\\t',a)\n",
    "    a=a+1"
   ]
  },
  {
   "cell_type": "markdown",
   "id": "e322fbcd",
   "metadata": {},
   "source": [
    "**Q.13 If you had a function named bacon() inside a module named spam, how would you call it after importing spam?**"
   ]
  },
  {
   "cell_type": "markdown",
   "id": "893a980f",
   "metadata": {},
   "source": [
    "**A.** \n",
    "\n",
    "**DEFINING the MODULE**\n",
    "\n",
    "import spam\n",
    "\n",
    "**CALLING the bacon function**\n",
    "\n",
    "a = spam.bacon()"
   ]
  }
 ],
 "metadata": {
  "kernelspec": {
   "display_name": "Python 3 (ipykernel)",
   "language": "python",
   "name": "python3"
  },
  "language_info": {
   "codemirror_mode": {
    "name": "ipython",
    "version": 3
   },
   "file_extension": ".py",
   "mimetype": "text/x-python",
   "name": "python",
   "nbconvert_exporter": "python",
   "pygments_lexer": "ipython3",
   "version": "3.9.7"
  }
 },
 "nbformat": 4,
 "nbformat_minor": 5
}
