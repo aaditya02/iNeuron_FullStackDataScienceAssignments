{
 "cells": [
  {
   "cell_type": "markdown",
   "id": "70b4f212",
   "metadata": {},
   "source": [
    "# Assignment 4"
   ]
  },
  {
   "cell_type": "markdown",
   "id": "19b5d79e",
   "metadata": {},
   "source": [
    "**Q1.What exactly is [ ]**"
   ]
  },
  {
   "cell_type": "markdown",
   "id": "f14a56b1",
   "metadata": {},
   "source": [
    "A. [] defines a list in Python. Generally a list is defined as x = [Data 1, Data 2, ...]\n",
    "This defines the empty list [ ]."
   ]
  },
  {
   "cell_type": "code",
   "execution_count": 1,
   "id": "1bd42e90",
   "metadata": {},
   "outputs": [
    {
     "data": {
      "text/plain": [
       "list"
      ]
     },
     "execution_count": 1,
     "metadata": {},
     "output_type": "execute_result"
    }
   ],
   "source": [
    "x=[ ]\n",
    "type(x)"
   ]
  },
  {
   "cell_type": "markdown",
   "id": "49f59020",
   "metadata": {},
   "source": [
    "**Q2.In a list of values stored in a variable called spam, how would you assign the value hello' as the third value? (Assume [2, 4, 6, 8, 10] are in spam.)**"
   ]
  },
  {
   "cell_type": "code",
   "execution_count": 2,
   "id": "df08d1d9",
   "metadata": {},
   "outputs": [
    {
     "name": "stdout",
     "output_type": "stream",
     "text": [
      "[2, 4, 'hello', 8, 10]\n"
     ]
    }
   ],
   "source": [
    "spam=[2,4,6,8,10]\n",
    "spam[2]='hello'\n",
    "print(spam)"
   ]
  },
  {
   "cell_type": "markdown",
   "id": "057138bc",
   "metadata": {},
   "source": [
    "A. Since a list starts with index 0, 3rd value will be at index 3-1=2. 'hello' is assigned to spam[2]."
   ]
  },
  {
   "cell_type": "markdown",
   "id": "e32aafe7",
   "metadata": {},
   "source": [
    "**Lets pretend the spam includes the list ['a', 'b','c','d'] for the next three queries.**"
   ]
  },
  {
   "cell_type": "markdown",
   "id": "bc4d28f1",
   "metadata": {},
   "source": [
    "**Q3.What is the value of spam[int(int(3 * 2) / 11)]?**"
   ]
  },
  {
   "cell_type": "code",
   "execution_count": 3,
   "id": "a0a09edc",
   "metadata": {},
   "outputs": [
    {
     "data": {
      "text/plain": [
       "'a'"
      ]
     },
     "execution_count": 3,
     "metadata": {},
     "output_type": "execute_result"
    }
   ],
   "source": [
    "spam = ['a','b','c','d']\n",
    "\n",
    "spam[int(int(3 * 2)/11)]"
   ]
  },
  {
   "cell_type": "markdown",
   "id": "26d3aabc",
   "metadata": {},
   "source": [
    "A. 'a' is the answer as \n",
    "\n",
    "    int(int(3*2)/11)=int(6/11)=0\n",
    "    and spam[0]='a'"
   ]
  },
  {
   "cell_type": "markdown",
   "id": "7dc9a911",
   "metadata": {},
   "source": [
    "**Q4. What is the value of spam[-1]?**"
   ]
  },
  {
   "cell_type": "code",
   "execution_count": 5,
   "id": "666bd65e",
   "metadata": {},
   "outputs": [
    {
     "data": {
      "text/plain": [
       "'d'"
      ]
     },
     "execution_count": 5,
     "metadata": {},
     "output_type": "execute_result"
    }
   ],
   "source": [
    "spam[-1]"
   ]
  },
  {
   "cell_type": "markdown",
   "id": "1c1a9df3",
   "metadata": {},
   "source": [
    "A. [-1] represents the last present value in the list which is 'd'"
   ]
  },
  {
   "cell_type": "markdown",
   "id": "abd9c928",
   "metadata": {},
   "source": [
    "**Q5.What is the value of spam[:2]**"
   ]
  },
  {
   "cell_type": "code",
   "execution_count": 6,
   "id": "462050de",
   "metadata": {},
   "outputs": [
    {
     "data": {
      "text/plain": [
       "['a', 'b']"
      ]
     },
     "execution_count": 6,
     "metadata": {},
     "output_type": "execute_result"
    }
   ],
   "source": [
    "spam[:2]"
   ]
  },
  {
   "cell_type": "markdown",
   "id": "a71b2ac1",
   "metadata": {},
   "source": [
    "A. list[starting point : ending point]\n",
    "\n",
    "    Since there is no starting point, it is taken as default 0 and the ending point being 2. So it prints index no. 0 and 1, i.e 'a' and 'b'"
   ]
  },
  {
   "cell_type": "markdown",
   "id": "bf9055dc",
   "metadata": {},
   "source": [
    "**Let's pretend bacon has the list [3.14, 'cat' 11, 'cat' True] for the next three questions.**"
   ]
  },
  {
   "cell_type": "markdown",
   "id": "fad38dcf",
   "metadata": {},
   "source": [
    "**Q.6 What is the value of bacon.index('cat')**"
   ]
  },
  {
   "cell_type": "code",
   "execution_count": 7,
   "id": "26476b04",
   "metadata": {},
   "outputs": [
    {
     "data": {
      "text/plain": [
       "1"
      ]
     },
     "execution_count": 7,
     "metadata": {},
     "output_type": "execute_result"
    }
   ],
   "source": [
    "bacon = [3.14,'cat',11,'cat',True]\n",
    "bacon.index('cat')"
   ]
  },
  {
   "cell_type": "markdown",
   "id": "a4b8cff0",
   "metadata": {},
   "source": [
    "A. It will only print the first index where 'cat' is found, i.e index 1."
   ]
  },
  {
   "cell_type": "markdown",
   "id": "5047194c",
   "metadata": {},
   "source": [
    "**Q7.How does bacon.append(99) change the look of the list value in bacon?**"
   ]
  },
  {
   "cell_type": "code",
   "execution_count": 15,
   "id": "8cfef07e",
   "metadata": {},
   "outputs": [
    {
     "name": "stdout",
     "output_type": "stream",
     "text": [
      "[3.14, 'cat', 11, 'cat', True, 99]\n"
     ]
    }
   ],
   "source": [
    "bacon.append (99)\n",
    "print(bacon)"
   ]
  },
  {
   "cell_type": "markdown",
   "id": "52e088e4",
   "metadata": {},
   "source": [
    "A. It appends the value 99 to the list bacon"
   ]
  },
  {
   "cell_type": "markdown",
   "id": "94631487",
   "metadata": {},
   "source": [
    "**Q8.How does bacon.remove('cat') change the look of the list in bacon?**"
   ]
  },
  {
   "cell_type": "code",
   "execution_count": 16,
   "id": "a7925f33",
   "metadata": {},
   "outputs": [
    {
     "name": "stdout",
     "output_type": "stream",
     "text": [
      "[3.14, 11, 'cat', True, 99]\n"
     ]
    }
   ],
   "source": [
    "bacon.remove('cat')\n",
    "print (bacon)"
   ]
  },
  {
   "cell_type": "markdown",
   "id": "69cd9ed7",
   "metadata": {},
   "source": [
    "A. It removes the first instant where 'cat' is present"
   ]
  },
  {
   "cell_type": "markdown",
   "id": "295ae9ab",
   "metadata": {},
   "source": [
    "**Q9.What are the list concatenation and list replication operators?**"
   ]
  },
  {
   "cell_type": "markdown",
   "id": "1d1f3df2",
   "metadata": {},
   "source": [
    "A. \n",
    "\n",
    "    List concatenation operator represted by + operator\n",
    "    List replication operator represted by * operator\n",
    "    For eg. "
   ]
  },
  {
   "cell_type": "code",
   "execution_count": 18,
   "id": "b67bcea1",
   "metadata": {},
   "outputs": [
    {
     "data": {
      "text/plain": [
       "[1, 2, 3, 4, 5, 6]"
      ]
     },
     "execution_count": 18,
     "metadata": {},
     "output_type": "execute_result"
    }
   ],
   "source": [
    "a=[1,2,3]\n",
    "b=[4,5,6]\n",
    "c=a+b       #concatenation\n",
    "c"
   ]
  },
  {
   "cell_type": "code",
   "execution_count": 19,
   "id": "bd4a7394",
   "metadata": {},
   "outputs": [
    {
     "data": {
      "text/plain": [
       "[1, 2, 3, 1, 2, 3]"
      ]
     },
     "execution_count": 19,
     "metadata": {},
     "output_type": "execute_result"
    }
   ],
   "source": [
    "a=[1,2,3]\n",
    "b=a*2       #replication\n",
    "b"
   ]
  },
  {
   "cell_type": "markdown",
   "id": "caf3b80c",
   "metadata": {},
   "source": [
    "**Q10.What is difference between the list methods append() and insert()?**"
   ]
  },
  {
   "cell_type": "markdown",
   "id": "05ba3b8b",
   "metadata": {},
   "source": [
    "A. \n",
    "\n",
    "Append() : is used for adding the new element to the list AT THE LAST POSITION OF THE LIST\n",
    "\n",
    "Insert() : is used for adding the new element to the list AT THE SPECIFIED POSITION/INDEX IN THE LIST\n",
    "\n",
    "for eg."
   ]
  },
  {
   "cell_type": "code",
   "execution_count": 20,
   "id": "0c5a7b3e",
   "metadata": {},
   "outputs": [
    {
     "data": {
      "text/plain": [
       "[1, 2, 3, 4, 5, 'Hello!!']"
      ]
     },
     "execution_count": 20,
     "metadata": {},
     "output_type": "execute_result"
    }
   ],
   "source": [
    "l = [1,2,3,4,5]\n",
    "l.append('Hello')    # APPEND OPERATION\n",
    "l"
   ]
  },
  {
   "cell_type": "code",
   "execution_count": 22,
   "id": "f463a523",
   "metadata": {},
   "outputs": [
    {
     "data": {
      "text/plain": [
       "[1, 'Hello', 2, 3, 4, 5]"
      ]
     },
     "execution_count": 22,
     "metadata": {},
     "output_type": "execute_result"
    }
   ],
   "source": [
    "l = [1,2,3,4,5]\n",
    "l.insert(1, 'Hello')  # INSERT OPERATION\n",
    "l"
   ]
  },
  {
   "cell_type": "markdown",
   "id": "68cfb8b6",
   "metadata": {},
   "source": [
    "**Q11. What are the two methods for removing items from a list?**"
   ]
  },
  {
   "cell_type": "markdown",
   "id": "07cc8bae",
   "metadata": {},
   "source": [
    "A. \n",
    "\n",
    "POP() : Removes the last element from the list\n",
    "\n",
    "REMOVE() : Removes the first occurance of the specified element\n",
    "\n",
    "For eg."
   ]
  },
  {
   "cell_type": "code",
   "execution_count": 23,
   "id": "cd8be577",
   "metadata": {},
   "outputs": [
    {
     "data": {
      "text/plain": [
       "[1, 2, 3, 4]"
      ]
     },
     "execution_count": 23,
     "metadata": {},
     "output_type": "execute_result"
    }
   ],
   "source": [
    "l = [1,2,3,4,5]\n",
    "l.pop()         #POP OPERATION\n",
    "l"
   ]
  },
  {
   "cell_type": "code",
   "execution_count": 24,
   "id": "3d02d6cb",
   "metadata": {},
   "outputs": [
    {
     "data": {
      "text/plain": [
       "[1, 3, 4, 5]"
      ]
     },
     "execution_count": 24,
     "metadata": {},
     "output_type": "execute_result"
    }
   ],
   "source": [
    "l = [1,2,3,4,5]\n",
    "l.remove(2)         #REMOVE OPERATION\n",
    "l"
   ]
  },
  {
   "cell_type": "markdown",
   "id": "11026f39",
   "metadata": {},
   "source": [
    "**Q12.Describe how list values and string values are identical.**"
   ]
  },
  {
   "cell_type": "markdown",
   "id": "8c08e2af",
   "metadata": {},
   "source": [
    "A. \n",
    "\n",
    "1. Both can be hold any kind of values\n",
    "     For example\n",
    "     str1 = '9'\n",
    "     str2 = '4+5j'\n",
    "     list1 = [\"9\", 4+5j]\n",
    "2. Both are iterables"
   ]
  },
  {
   "cell_type": "markdown",
   "id": "40f6be9c",
   "metadata": {},
   "source": [
    "**Q13.What's the difference between tuples and lists?**"
   ]
  },
  {
   "cell_type": "markdown",
   "id": "b9ffd163",
   "metadata": {},
   "source": [
    "A.Mutability --> Once defined can be change over the period of time. Values can be added, remove and changed\n",
    "\n",
    "1.List are mutable and Tuples are immutable\n",
    "\n",
    "\n",
    "\n",
    "2.List consume more memory to stored data as they are mutable but Tuples consumes less memory"
   ]
  },
  {
   "cell_type": "markdown",
   "id": "ec4a3ccc",
   "metadata": {},
   "source": [
    "**Q14.How do you type a tuple value that only contains the integer 42?**"
   ]
  },
  {
   "cell_type": "code",
   "execution_count": 27,
   "id": "e54d90c6",
   "metadata": {},
   "outputs": [
    {
     "name": "stdout",
     "output_type": "stream",
     "text": [
      "(42,)\n",
      "<class 'tuple'>\n"
     ]
    }
   ],
   "source": [
    "a = (42,)\n",
    "\n",
    "print(a)\n",
    "print(type(a))"
   ]
  },
  {
   "cell_type": "markdown",
   "id": "9feb408d",
   "metadata": {},
   "source": [
    "**Q15.How do you get a list value's tuple form? How do you get a tuple value's list form?**"
   ]
  },
  {
   "cell_type": "markdown",
   "id": "32a785b9",
   "metadata": {},
   "source": [
    "A. Python has a built-in function as list() and tuple()\n",
    "Using this we can get each and every value"
   ]
  },
  {
   "cell_type": "code",
   "execution_count": 28,
   "id": "3397fc7d",
   "metadata": {},
   "outputs": [
    {
     "name": "stdout",
     "output_type": "stream",
     "text": [
      "<class 'tuple'>\n"
     ]
    },
    {
     "data": {
      "text/plain": [
       "(1, 2, 3, 4, 5, 6)"
      ]
     },
     "execution_count": 28,
     "metadata": {},
     "output_type": "execute_result"
    }
   ],
   "source": [
    "# List --> Tuple\n",
    "a_list = [1,2,3,4,5,6]\n",
    "a_tuple = tuple(a_list)\n",
    "print(type(a_tuple))\n",
    "a_tuple"
   ]
  },
  {
   "cell_type": "code",
   "execution_count": 29,
   "id": "3f62478c",
   "metadata": {},
   "outputs": [
    {
     "name": "stdout",
     "output_type": "stream",
     "text": [
      "<class 'list'>\n"
     ]
    },
    {
     "data": {
      "text/plain": [
       "[1, 2, 3, 4, 5, 6]"
      ]
     },
     "execution_count": 29,
     "metadata": {},
     "output_type": "execute_result"
    }
   ],
   "source": [
    "# Tuple --> List\n",
    "a_tuple = (1,2,3,4,5,6)\n",
    "a_list = list(a_tuple)\n",
    "print(type(a_list))\n",
    "a_list"
   ]
  },
  {
   "cell_type": "markdown",
   "id": "ee188d47",
   "metadata": {},
   "source": [
    "**Q16.Variables that \"contain\" list values are not necessarily lists themselves. Instead, what do they contain?**"
   ]
  },
  {
   "cell_type": "markdown",
   "id": "b1b4f14b",
   "metadata": {},
   "source": [
    "A. Variables will contain the references to list values"
   ]
  },
  {
   "cell_type": "markdown",
   "id": "fdd27328",
   "metadata": {},
   "source": [
    "**Q17. How do you distinguish between copy.copy() and copy.deepcopy()?**"
   ]
  },
  {
   "cell_type": "markdown",
   "id": "fb878c5a",
   "metadata": {},
   "source": [
    "A.**copy.copy()** : will create a new instance But the reference/address for the new the newly created instance and the existing instance will be the same.\n",
    "\n",
    "\n",
    "**copy.deepcopy()** : will create a new instance AND the reference/address for the new the newly created instance and the existing instance will be the different."
   ]
  }
 ],
 "metadata": {
  "kernelspec": {
   "display_name": "Python 3 (ipykernel)",
   "language": "python",
   "name": "python3"
  },
  "language_info": {
   "codemirror_mode": {
    "name": "ipython",
    "version": 3
   },
   "file_extension": ".py",
   "mimetype": "text/x-python",
   "name": "python",
   "nbconvert_exporter": "python",
   "pygments_lexer": "ipython3",
   "version": "3.9.7"
  }
 },
 "nbformat": 4,
 "nbformat_minor": 5
}
