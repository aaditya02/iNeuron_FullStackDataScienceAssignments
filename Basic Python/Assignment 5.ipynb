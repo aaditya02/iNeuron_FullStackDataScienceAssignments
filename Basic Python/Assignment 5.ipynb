{
 "cells": [
  {
   "cell_type": "markdown",
   "id": "b9c18fb0",
   "metadata": {},
   "source": [
    "# Assignment 5"
   ]
  },
  {
   "cell_type": "markdown",
   "id": "15b79477",
   "metadata": {},
   "source": [
    "Q1.What does an empty dictionary's code look like?\n"
   ]
  },
  {
   "cell_type": "code",
   "execution_count": 1,
   "id": "79d41f58",
   "metadata": {},
   "outputs": [
    {
     "data": {
      "text/plain": [
       "dict"
      ]
     },
     "execution_count": 1,
     "metadata": {},
     "output_type": "execute_result"
    }
   ],
   "source": [
    "dic = {}\n",
    "type(dic)"
   ]
  },
  {
   "cell_type": "markdown",
   "id": "0c593a4c",
   "metadata": {},
   "source": [
    "Q2.What is the value of a dictionary value with the key 'foo' and the value 42?\n"
   ]
  },
  {
   "cell_type": "code",
   "execution_count": 2,
   "id": "ed1444c8",
   "metadata": {},
   "outputs": [
    {
     "data": {
      "text/plain": [
       "42"
      ]
     },
     "execution_count": 2,
     "metadata": {},
     "output_type": "execute_result"
    }
   ],
   "source": [
    "a = {'foo': 42}\n",
    "\n",
    "a['foo']"
   ]
  },
  {
   "cell_type": "markdown",
   "id": "8fd035da",
   "metadata": {},
   "source": [
    "Q3. What is the most significant distinction between a dictionary and a list?\n"
   ]
  },
  {
   "cell_type": "markdown",
   "id": "7fcbb85b",
   "metadata": {},
   "source": [
    "1. <b>Dictionary :</b> is defined using {}.\n",
    "   \n",
    "   <b>List :</b> is defined using [].\n",
    "\n",
    "\n",
    "2. <b>Dictionary :</b> is accessed using a key-value pair.\n",
    "   \n",
    "   <b>List :</b> are accessed using indexes/positions.\n",
    "\n",
    "\n",
    "3. <b>Dictionary :</b> is unordered sequence of collection.\n",
    "   \n",
    "   <b>List :</b> is an ordered sequence of collection."
   ]
  },
  {
   "cell_type": "markdown",
   "id": "96e6bb64",
   "metadata": {},
   "source": [
    "Q4. What happens if you try to access spam['foo'] if spam is {'bar': 100}?\n"
   ]
  },
  {
   "cell_type": "code",
   "execution_count": 3,
   "id": "01697898",
   "metadata": {},
   "outputs": [
    {
     "name": "stdout",
     "output_type": "stream",
     "text": [
      "{'bar': 100}\n"
     ]
    },
    {
     "ename": "KeyError",
     "evalue": "'foo'",
     "output_type": "error",
     "traceback": [
      "\u001b[1;31m---------------------------------------------------------------------------\u001b[0m",
      "\u001b[1;31mKeyError\u001b[0m                                  Traceback (most recent call last)",
      "\u001b[1;32m~\\AppData\\Local\\Temp/ipykernel_1356/908790894.py\u001b[0m in \u001b[0;36m<module>\u001b[1;34m\u001b[0m\n\u001b[0;32m      2\u001b[0m \u001b[0mprint\u001b[0m\u001b[1;33m(\u001b[0m\u001b[0mspam\u001b[0m\u001b[1;33m)\u001b[0m\u001b[1;33m\u001b[0m\u001b[1;33m\u001b[0m\u001b[0m\n\u001b[0;32m      3\u001b[0m \u001b[1;33m\u001b[0m\u001b[0m\n\u001b[1;32m----> 4\u001b[1;33m \u001b[0mspam\u001b[0m\u001b[1;33m[\u001b[0m\u001b[1;34m'foo'\u001b[0m\u001b[1;33m]\u001b[0m\u001b[1;33m\u001b[0m\u001b[1;33m\u001b[0m\u001b[0m\n\u001b[0m\u001b[0;32m      5\u001b[0m \u001b[1;31m# error as no key name is 'foo'\u001b[0m\u001b[1;33m\u001b[0m\u001b[1;33m\u001b[0m\u001b[0m\n",
      "\u001b[1;31mKeyError\u001b[0m: 'foo'"
     ]
    }
   ],
   "source": [
    "spam = {'bar': 100}\n",
    "print(spam)\n",
    "\n",
    "spam['foo']\n",
    "# error as no key name is 'foo'"
   ]
  },
  {
   "cell_type": "markdown",
   "id": "6371763b",
   "metadata": {},
   "source": [
    "Q5.If a dictionary is stored in spam, what is the difference between the expressions 'cat' in spam and 'cat' in spam.keys()?\n"
   ]
  },
  {
   "cell_type": "markdown",
   "id": "14baf4af",
   "metadata": {},
   "source": [
    "A. The result of both the operation is same as the 'cat' key_name is present within the dictionary\n",
    "Also spam.keys() provides all the keys present within the dictionary"
   ]
  },
  {
   "cell_type": "code",
   "execution_count": 4,
   "id": "9398dfe6",
   "metadata": {},
   "outputs": [
    {
     "name": "stdout",
     "output_type": "stream",
     "text": [
      "{'cat': 123456}\n"
     ]
    },
    {
     "data": {
      "text/plain": [
       "True"
      ]
     },
     "execution_count": 4,
     "metadata": {},
     "output_type": "execute_result"
    }
   ],
   "source": [
    "spam = {'cat' : 123456}\n",
    "print(spam)\n",
    "\n",
    "'cat' in spam"
   ]
  },
  {
   "cell_type": "code",
   "execution_count": 5,
   "id": "9c2c4564",
   "metadata": {},
   "outputs": [
    {
     "data": {
      "text/plain": [
       "True"
      ]
     },
     "execution_count": 5,
     "metadata": {},
     "output_type": "execute_result"
    }
   ],
   "source": [
    "'cat' in spam.keys()"
   ]
  },
  {
   "cell_type": "markdown",
   "id": "f6affe5a",
   "metadata": {},
   "source": [
    "Q6. If a dictionary is stored in spam, what is the difference between the expressions 'cat' in spam and 'cat' in spam.values()?\n"
   ]
  },
  {
   "cell_type": "markdown",
   "id": "7fcbaea2",
   "metadata": {},
   "source": [
    "A. The result of both the operation will be different as the 'cat' is a key name & is present within the dictionary.\n",
    "Also spam.values() provides all the values present within the dictionary\n",
    "So if the values match with the given value ; it will definitely return True"
   ]
  },
  {
   "cell_type": "code",
   "execution_count": 9,
   "id": "8c3c3015",
   "metadata": {},
   "outputs": [
    {
     "name": "stdout",
     "output_type": "stream",
     "text": [
      "{'cat': 123456}\n"
     ]
    },
    {
     "data": {
      "text/plain": [
       "True"
      ]
     },
     "execution_count": 9,
     "metadata": {},
     "output_type": "execute_result"
    }
   ],
   "source": [
    "spam = {'cat' : 123456}\n",
    "print(spam)\n",
    "\n",
    "'cat' in spam"
   ]
  },
  {
   "cell_type": "code",
   "execution_count": 10,
   "id": "883e08f9",
   "metadata": {},
   "outputs": [
    {
     "data": {
      "text/plain": [
       "False"
      ]
     },
     "execution_count": 10,
     "metadata": {},
     "output_type": "execute_result"
    }
   ],
   "source": [
    "'cat' in spam.values()"
   ]
  },
  {
   "cell_type": "markdown",
   "id": "00a40bdb",
   "metadata": {},
   "source": [
    "Q7. What is a shortcut for the following code?\n",
    "\n",
    "    if 'color' not in spam:\n",
    "    spam['color'] = 'black'\n"
   ]
  },
  {
   "cell_type": "code",
   "execution_count": 11,
   "id": "d69fea3f",
   "metadata": {},
   "outputs": [
    {
     "name": "stdout",
     "output_type": "stream",
     "text": [
      "{'abc': 123, 'color': 'black'}\n"
     ]
    }
   ],
   "source": [
    "spam = {'abc' : 123}\n",
    "\n",
    "spam['color'] = 'black'\n",
    "\n",
    "print(spam)"
   ]
  },
  {
   "cell_type": "markdown",
   "id": "68afe516",
   "metadata": {},
   "source": [
    "Q8. How do you \"pretty print\" dictionary values using which module and function?\n"
   ]
  },
  {
   "cell_type": "markdown",
   "id": "281919ed",
   "metadata": {},
   "source": [
    "A. pprint is the python built-in module that can be used to print python datatypes in a more readable way.\n",
    "Within the pprint module; pprint() function is used to perform this operation."
   ]
  },
  {
   "cell_type": "code",
   "execution_count": 13,
   "id": "5728cc71",
   "metadata": {},
   "outputs": [
    {
     "name": "stdout",
     "output_type": "stream",
     "text": [
      "[{'Class': '10th', 'Result': 75, 'Board': 'MSB'}, {'Class': '12th', 'Result': 82, 'Board': 'MSBTE'}]\n"
     ]
    }
   ],
   "source": [
    "import pprint\n",
    "\n",
    "# Creating a array\n",
    "a = [{'Class': '10th', 'Result': 75, 'Board': 'MSB'},\n",
    "     {'Class': '12th', 'Result': 82, 'Board': 'MSBTE'}]\n",
    "\n",
    "print(a)"
   ]
  },
  {
   "cell_type": "code",
   "execution_count": 14,
   "id": "b9c796ef",
   "metadata": {},
   "outputs": [
    {
     "name": "stdout",
     "output_type": "stream",
     "text": [
      "[{'Board': 'MSB', 'Class': '10th', 'Result': 75},\n",
      " {'Board': 'MSBTE', 'Class': '12th', 'Result': 82}]\n"
     ]
    }
   ],
   "source": [
    "pprint.pprint(a)"
   ]
  }
 ],
 "metadata": {
  "kernelspec": {
   "display_name": "Python 3 (ipykernel)",
   "language": "python",
   "name": "python3"
  },
  "language_info": {
   "codemirror_mode": {
    "name": "ipython",
    "version": 3
   },
   "file_extension": ".py",
   "mimetype": "text/x-python",
   "name": "python",
   "nbconvert_exporter": "python",
   "pygments_lexer": "ipython3",
   "version": "3.9.7"
  }
 },
 "nbformat": 4,
 "nbformat_minor": 5
}
